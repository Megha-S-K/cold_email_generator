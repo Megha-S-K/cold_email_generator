{
 "cells": [
  {
   "cell_type": "code",
   "execution_count": 6,
   "id": "63b6ba10-8a52-4b1f-91cf-2c3ade8ac0b9",
   "metadata": {},
   "outputs": [
    {
     "name": "stdout",
     "output_type": "stream",
     "text": [
      "The first person to land on the moon was Neil Armstrong. He stepped out of the lunar module Eagle and onto the moon's surface on July 20, 1969, during the Apollo 11 mission.\n"
     ]
    }
   ],
   "source": [
    "from langchain_groq import ChatGroq\n",
    "\n",
    "llm = ChatGroq(\n",
    "    temperature=0,\n",
    "    groq_api_key='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',\n",
    "    model_name=\"llama-3.1-8b-instant\"    \n",
    ")\n",
    "response = llm.invoke(\"The first person to land on moon was ...\")\n",
    "print(response.content)"
   ]
  },
  {
   "cell_type": "code",
   "execution_count": 41,
   "id": "c22fc448-0f39-4f6c-b9bb-cdb0fa0003cc",
   "metadata": {},
   "outputs": [
    {
     "name": "stdout",
     "output_type": "stream",
     "text": [
      "Job Application for Corporate Finance, Revenue at NotionBack to jobsCorporate Finance, RevenueSan Francisco, CaliforniaApplyAbout Us:\n",
      "We're on a mission to make it possible for every person, team, and company to be able to tailor their software to solve any problem and take on any challenge. Computers may be our most powerful tools, but most of us can't build or modify the software we use on them every day. At Notion, we want to change this with focus, design, and craft.\n",
      "We've been working on this together since 2016, and have customers like OpenAI, Toyota, Figma, Ramp, and thousands more on this journey with us. Today, we're growing fast and excited for new teammates to join us who are the best at what they do. We're passionate about building a company as diverse and creative as the millions of people Notion reaches worldwide.\n",
      "Notion is an in person company, and currently requires its employees to come to the office for two Anchor Days (Mondays & Thursdays) and requests that employees spend the majority of their week in the office (including a third day).\n",
      "About The Role:\n",
      "Our Corporate Finance team serves as a trusted advisor to the company, informing and guiding critical C-level decisions through insightful analyses & thought partnership. We are looking for a bright, driven individual who will support Executive-level understanding of our key financial metrics and trends, dial in our forecasting accuracy, and take on high-profile strategic projects for the CFO and other key decision-makers. We are a lean team, so your impact will be felt immediately.\n",
      "What You'll Achieve:\n",
      "\n",
      "Own GAAP Revenue forecasting across monthly forecasts, annual planning, long range planning, and other critical revenue forecasting processes.\n",
      "Continuously improve predictability of financial results through enhancements of internal processes and tighter partnership across the organization\n",
      "Understand and highlight key performance indicators and drivers of change within the financial results and present results to the senior management team to inform strategic decision making.\n",
      "Assist in preparation of monthly & quarterly management reporting including but not limited to budget vs. forecast, dashboards, and Board materials.\n",
      "Tackle new & evolving priorities for the team, including ad hoc analyses.\n",
      "\n",
      "Skills You'll Need to Bring:\n",
      "\n",
      "8+ years experience in FP&A, including prior experience converting operating metrics (e.g., ARR, usage) to GAAP Revenue\n",
      "Experience with financial modeling and analytical mindset\n",
      "Positive attitude with high aptitude to learn new things quickly. Team player eager to further develop and grow with us\n",
      "Demonstrate intellectual curiosity, problem-solving skills, and hunger to continually up-level current approaches and processes.\n",
      "Strong work ethic, reliability, and attention to detail - “get it done” attitude\n",
      "\n",
      "Nice to Haves:\n",
      "\n",
      "Experience with a high-growth SaaS company\n",
      "Experience with Netsuite, Workday, Zip, and planning tools\n",
      "Working knowledge of SQL, or open to learning\n",
      "\n",
      "We hire talented and passionate people from a variety of backgrounds because we want our global employee base to represent the wide diversity of our customers. If you’re excited about a role but your past experience doesn’t align perfectly with every bullet point listed in the job description, we still encourage you to apply. If you’re a builder at heart, share our company values, and enthusiastic about making software toolmaking ubiquitous, we want to hear from you.\n",
      "Notion is proud to be an equal opportunity employer. We do not discriminate in hiring or any employment decision based on race, color, religion, national origin, age, sex (including pregnancy, childbirth, or related medical conditions), marital status, ancestry, physical or mental disability, genetic information, veteran status, gender identity or expression, sexual orientation, or other applicable legally protected characteristic. Notion considers qualified applicants with criminal histories, consistent with applicable federal, state and local law. Notion is also committed to providing reasonable accommodations for qualified individuals with disabilities and disabled veterans in our job application procedures. If you need assistance or an accommodation due to a disability, please let your recruiter know.\n",
      "Notion is committed to providing highly competitive cash compensation, equity, and benefits. The compensation offered for this role will be based on multiple factors such as location, the role’s scope and complexity, and the candidate’s experience and expertise, and may vary from the range provided below. For roles based in San Francisco or New York City, the estimated base salary range for this role is $180,000 - $210,000 per year.\n",
      "#LI-Onsite\n",
      "By clicking “Submit Application”, I understand and agree that Notion and its affiliates and subsidiaries will collect and process my information in accordance with Notion’s Global Recruiting Privacy Policy.Apply for this job*indicates a required fieldFirst Name*Last Name*Email*Phone*Resume/CV*AttachAttachDropboxGoogle DriveEnter manuallyEnter manuallyAccepted file types: pdf, doc, docx, txt, rtfCover LetterAttachAttachDropboxGoogle DriveEnter manuallyEnter manuallyAccepted file types: pdf, doc, docx, txt, rtfWhat are the pronouns that you would like our team to use when addressing you? Select...Notion is an in person company, and currently requires its employees to come to the office for two Anchor Days (Mondays & Thursdays) and requests that employees spend the majority of their week in the office (including a third day). Notion reserves the right to adjust these requirements, and wants to ensure that you understand that we prioritize your presence for the magic of in person collaboration. Notion will consider requests for accommodation to this policy, and, upon request, will work with employees to explore a reasonable accommodation for physical or mental disabilities or other reasons recognized by applicable law.\n",
      "\n",
      "Please confirm that you have read and understand Notion’s in office requirements and policy.*Select...Will you now or in the future require Notion to sponsor an immigration case in order to employ you? \n",
      "\n",
      "*Select...If you’ll require Notion to commence, i.e., “sponsor,” an immigration or work permit case in order to employ you, either now or at some point in the near future, then you should answer yes. An example of an immigration or work permit case that may require sponsorship now or in the future would be an H-1B or other employment-based work permit sponsorship.LinkedIn ProfileHow did you hear about this opportunity? (select all that apply) Select...Voluntary Self-Identification\n",
      "For government reporting purposes, we ask candidates to respond to the below self-identification survey.\n",
      "Completion of the form is entirely voluntary. Whatever your decision, it will not be considered in the hiring\n",
      "process or thereafter. Any information that you do provide will be recorded and maintained in a\n",
      "confidential file.\n",
      "As set forth in Notion’s Equal Employment Opportunity policy,\n",
      "we do not discriminate on the basis of any protected group status under any applicable law.\n",
      "GenderSelect...Are you Hispanic/Latino?Select...Race & Ethnicity Definitions\n",
      "  If you believe you belong to any of the categories of protected veterans listed below, please indicate by making the appropriate selection.\n",
      "  As a government contractor subject to the Vietnam Era Veterans Readjustment Assistance Act (VEVRAA), we request this information in order to measure\n",
      "  the effectiveness of the outreach and positive recruitment efforts we undertake pursuant to VEVRAA. Classification of protected categories\n",
      "  is as follows:\n",
      "\n",
      "A \"disabled veteran\" is one of the following: a veteran of the U.S. military, ground, naval or air service who is entitled to compensation (or who but for the receipt of military retired pay would be entitled to compensation) under laws administered by the Secretary of Veterans Affairs; or a person who was discharged or released from active duty because of a service-connected disability.\n",
      "A \"recently separated veteran\" means any veteran during the three-year period beginning on the date of such veteran's discharge or release from active duty in the U.S. military, ground, naval, or air service.\n",
      "An \"active duty wartime or campaign badge veteran\" means a veteran who served on active duty in the U.S. military, ground, naval or air service during a war, or in a campaign or expedition for which a campaign badge has been authorized under the laws administered by the Department of Defense.\n",
      "An \"Armed forces service medal veteran\" means a veteran who, while serving on active duty in the U.S. military, ground, naval or air service, participated in a United States military operation for which an Armed Forces service medal was awarded pursuant to Executive Order 12985.\n",
      "Veteran StatusSelect...Voluntary Self-Identification of Disability\n",
      "\n",
      "\n",
      "Form CC-305\n",
      "Page 1 of 1\n",
      "\n",
      "\n",
      "OMB Control Number 1250-0005\n",
      "Expires 04/30/2026\n",
      "\n",
      "\n",
      "\n",
      "Why are you being asked to complete this form?\n",
      "We are a federal contractor or subcontractor. The law requires us to provide equal employment opportunity to qualified people with disabilities. We have a goal of having at least 7% of our workers as people with disabilities. The law says we must measure our progress towards this goal. To do this, we must ask applicants and employees if they have a disability or have ever had one. People can become disabled, so we need to ask this question at least every five years.\n",
      "Completing this form is voluntary, and we hope that you will choose to do so. Your answer is confidential. No one who makes hiring decisions will see it. Your decision to complete the form and your answer will not harm you in any way. If you want to learn more about the law or this form, visit the U.S. Department of Labor’s Office of Federal Contract Compliance Programs (OFCCP) website at www.dol.gov/ofccp.\n",
      "How do you know if you have a disability?\n",
      "A disability is a condition that substantially limits one or more of your “major life activities.” If you have or have ever had such a condition, you are a person with a disability. Disabilities include, but are not limited to:\n",
      "\n",
      "Alcohol or other substance use disorder (not currently using drugs illegally)\n",
      "Autoimmune disorder, for example, lupus, fibromyalgia, rheumatoid arthritis, HIV/AIDS\n",
      "Blind or low vision\n",
      "Cancer (past or present)\n",
      "Cardiovascular or heart disease\n",
      "Celiac disease\n",
      "Cerebral palsy\n",
      "Deaf or serious difficulty hearing\n",
      "Diabetes\n",
      "Disfigurement, for example, disfigurement caused by burns, wounds, accidents, or congenital disorders\n",
      "Epilepsy or other seizure disorder\n",
      "Gastrointestinal disorders, for example, Crohn's Disease, irritable bowel syndrome\n",
      "Intellectual or developmental disability\n",
      "Mental health conditions, for example, depression, bipolar disorder, anxiety disorder, schizophrenia, PTSD\n",
      "Missing limbs or partially missing limbs\n",
      "Mobility impairment, benefiting from the use of a wheelchair, scooter, walker, leg brace(s) and/or other supports\n",
      "Nervous system condition, for example, migraine headaches, Parkinson’s disease, multiple sclerosis (MS)\n",
      "Neurodivergence, for example, attention-deficit/hyperactivity disorder (ADHD), autism spectrum disorder, dyslexia, dyspraxia, other learning disabilities\n",
      "Partial or complete paralysis (any cause)\n",
      "Pulmonary or respiratory conditions, for example, tuberculosis, asthma, emphysema\n",
      "Short stature (dwarfism)\n",
      "Traumatic brain injury\n",
      "\n",
      "Disability StatusSelect...PUBLIC BURDEN STATEMENT: According to the Paperwork Reduction Act of 1995 no persons are required to respond to a collection of information unless such collection displays a valid OMB control number. This survey should take about 5 minutes to complete.\n",
      "Submit applicationPowered byGreenhouseRead our Privacy Policy\n"
     ]
    }
   ],
   "source": [
    "from langchain_community.document_loaders import WebBaseLoader\n",
    "\n",
    "loader = WebBaseLoader(\"https://job-boards.greenhouse.io/notion/jobs/6586329003\")\n",
    "page_data = loader.load().pop().page_content\n",
    "print(page_data)"
   ]
  },
  {
   "cell_type": "code",
   "execution_count": 43,
   "id": "6673e5b1-cc8f-47ef-9c67-13e75a97a086",
   "metadata": {},
   "outputs": [
    {
     "name": "stdout",
     "output_type": "stream",
     "text": [
      "```json\n",
      "[\n",
      "  {\n",
      "    \"role\": \"Corporate Finance, Revenue\",\n",
      "    \"experience\": \"8+ years experience in FP&A, including prior experience converting operating metrics (e.g., ARR, usage) to GAAP Revenue\",\n",
      "    \"skills\": [\n",
      "      \"Experience with financial modeling and analytical mindset\",\n",
      "      \"Positive attitude with high aptitude to learn new things quickly. Team player eager to further develop and grow with us\",\n",
      "      \"Demonstrate intellectual curiosity, problem-solving skills, and hunger to continually up-level current approaches and processes.\",\n",
      "      \"Strong work ethic, reliability, and attention to detail - “get it done” attitude\"\n",
      "    ],\n",
      "    \"description\": \"Our Corporate Finance team serves as a trusted advisor to the company, informing and guiding critical C-level decisions through insightful analyses & thought partnership. We are looking for a bright, driven individual who will support Executive-level understanding of our key financial metrics and trends, dial in our forecasting accuracy, and take on high-profile strategic projects for the CFO and other key decision-makers.\"\n",
      "  }\n",
      "]\n",
      "```\n"
     ]
    }
   ],
   "source": [
    "from langchain_core.prompts import PromptTemplate\n",
    "\n",
    "prompt_extract = PromptTemplate.from_template(\n",
    "    \"\"\"\n",
    "    ### SCRAPED TEXT FROM WEBSITE:\n",
    "    {page_data}\n",
    "    ### INSTRUCTION:\n",
    "    The scraped text is from the career's page of a website.\n",
    "    Your job is to extract the job postings and return them in JSON format containing the\n",
    "    following keys: `role`, `experience`,`skills` and `description`.\n",
    "    Only return the valid JSON.\n",
    "    ### VALID JSON (NO PREAMBLE):\n",
    "    \"\"\"\n",
    ")\n",
    "\n",
    "chain_extract = prompt_extract | llm\n",
    "res = chain_extract.invoke(input={'page_data':page_data})\n",
    "print(res.content)"
   ]
  },
  {
   "cell_type": "code",
   "execution_count": 44,
   "id": "ea8cd82d-d0e7-47fe-9a71-f165461d4df8",
   "metadata": {},
   "outputs": [
    {
     "data": {
      "text/plain": [
       "[{'role': 'Corporate Finance, Revenue',\n",
       "  'experience': '8+ years experience in FP&A, including prior experience converting operating metrics (e.g., ARR, usage) to GAAP Revenue',\n",
       "  'skills': ['Experience with financial modeling and analytical mindset',\n",
       "   'Positive attitude with high aptitude to learn new things quickly. Team player eager to further develop and grow with us',\n",
       "   'Demonstrate intellectual curiosity, problem-solving skills, and hunger to continually up-level current approaches and processes.',\n",
       "   'Strong work ethic, reliability, and attention to detail - “get it done” attitude'],\n",
       "  'description': 'Our Corporate Finance team serves as a trusted advisor to the company, informing and guiding critical C-level decisions through insightful analyses & thought partnership. We are looking for a bright, driven individual who will support Executive-level understanding of our key financial metrics and trends, dial in our forecasting accuracy, and take on high-profile strategic projects for the CFO and other key decision-makers.'}]"
      ]
     },
     "execution_count": 44,
     "metadata": {},
     "output_type": "execute_result"
    }
   ],
   "source": [
    "from langchain_core.output_parsers import JsonOutputParser\n",
    "\n",
    "json_parser = JsonOutputParser()\n",
    "json_res = json_parser.parse(res.content)\n",
    "json_res"
   ]
  },
  {
   "cell_type": "code",
   "execution_count": 45,
   "id": "1e9e0fe7-0f34-4b0d-a296-b1b724b75bb1",
   "metadata": {},
   "outputs": [
    {
     "data": {
      "text/plain": [
       "list"
      ]
     },
     "execution_count": 45,
     "metadata": {},
     "output_type": "execute_result"
    }
   ],
   "source": [
    "type(json_res)"
   ]
  },
  {
   "cell_type": "code",
   "execution_count": 46,
   "id": "d5e8d8c2-5693-417d-a2a8-a6d51f02a3ad",
   "metadata": {},
   "outputs": [
    {
     "data": {
      "text/html": [
       "<div>\n",
       "<style scoped>\n",
       "    .dataframe tbody tr th:only-of-type {\n",
       "        vertical-align: middle;\n",
       "    }\n",
       "\n",
       "    .dataframe tbody tr th {\n",
       "        vertical-align: top;\n",
       "    }\n",
       "\n",
       "    .dataframe thead th {\n",
       "        text-align: right;\n",
       "    }\n",
       "</style>\n",
       "<table border=\"1\" class=\"dataframe\">\n",
       "  <thead>\n",
       "    <tr style=\"text-align: right;\">\n",
       "      <th></th>\n",
       "      <th>Techstack</th>\n",
       "      <th>Links</th>\n",
       "    </tr>\n",
       "  </thead>\n",
       "  <tbody>\n",
       "    <tr>\n",
       "      <th>0</th>\n",
       "      <td>React, Node.js, MongoDB</td>\n",
       "      <td>https://example.com/react-portfolio</td>\n",
       "    </tr>\n",
       "    <tr>\n",
       "      <th>1</th>\n",
       "      <td>Angular,.NET, SQL Server</td>\n",
       "      <td>https://example.com/angular-portfolio</td>\n",
       "    </tr>\n",
       "    <tr>\n",
       "      <th>2</th>\n",
       "      <td>Vue.js, Ruby on Rails, PostgreSQL</td>\n",
       "      <td>https://example.com/vue-portfolio</td>\n",
       "    </tr>\n",
       "    <tr>\n",
       "      <th>3</th>\n",
       "      <td>Python, Django, MySQL</td>\n",
       "      <td>https://example.com/python-portfolio</td>\n",
       "    </tr>\n",
       "    <tr>\n",
       "      <th>4</th>\n",
       "      <td>Java, Spring Boot, Oracle</td>\n",
       "      <td>https://example.com/java-portfolio</td>\n",
       "    </tr>\n",
       "    <tr>\n",
       "      <th>5</th>\n",
       "      <td>Flutter, Firebase, GraphQL</td>\n",
       "      <td>https://example.com/flutter-portfolio</td>\n",
       "    </tr>\n",
       "    <tr>\n",
       "      <th>6</th>\n",
       "      <td>WordPress, PHP, MySQL</td>\n",
       "      <td>https://example.com/wordpress-portfolio</td>\n",
       "    </tr>\n",
       "    <tr>\n",
       "      <th>7</th>\n",
       "      <td>Magento, PHP, MySQL</td>\n",
       "      <td>https://example.com/magento-portfolio</td>\n",
       "    </tr>\n",
       "    <tr>\n",
       "      <th>8</th>\n",
       "      <td>React Native, Node.js, MongoDB</td>\n",
       "      <td>https://example.com/react-native-portfolio</td>\n",
       "    </tr>\n",
       "    <tr>\n",
       "      <th>9</th>\n",
       "      <td>iOS, Swift, Core Data</td>\n",
       "      <td>https://example.com/ios-portfolio</td>\n",
       "    </tr>\n",
       "    <tr>\n",
       "      <th>10</th>\n",
       "      <td>Android, Java, Room Persistence</td>\n",
       "      <td>https://example.com/android-portfolio</td>\n",
       "    </tr>\n",
       "    <tr>\n",
       "      <th>11</th>\n",
       "      <td>Kotlin, Android, Firebase</td>\n",
       "      <td>https://example.com/kotlin-android-portfolio</td>\n",
       "    </tr>\n",
       "    <tr>\n",
       "      <th>12</th>\n",
       "      <td>Android TV, Kotlin, Android NDK</td>\n",
       "      <td>https://example.com/android-tv-portfolio</td>\n",
       "    </tr>\n",
       "    <tr>\n",
       "      <th>13</th>\n",
       "      <td>iOS, Swift, ARKit</td>\n",
       "      <td>https://example.com/ios-ar-portfolio</td>\n",
       "    </tr>\n",
       "    <tr>\n",
       "      <th>14</th>\n",
       "      <td>Cross-platform, Xamarin, Azure</td>\n",
       "      <td>https://example.com/xamarin-portfolio</td>\n",
       "    </tr>\n",
       "    <tr>\n",
       "      <th>15</th>\n",
       "      <td>Backend, Kotlin, Spring Boot</td>\n",
       "      <td>https://example.com/kotlin-backend-portfolio</td>\n",
       "    </tr>\n",
       "    <tr>\n",
       "      <th>16</th>\n",
       "      <td>Frontend, TypeScript, Angular</td>\n",
       "      <td>https://example.com/typescript-frontend-portfolio</td>\n",
       "    </tr>\n",
       "    <tr>\n",
       "      <th>17</th>\n",
       "      <td>Full-stack, JavaScript, Express.js</td>\n",
       "      <td>https://example.com/full-stack-js-portfolio</td>\n",
       "    </tr>\n",
       "    <tr>\n",
       "      <th>18</th>\n",
       "      <td>Machine Learning, Python, TensorFlow</td>\n",
       "      <td>https://example.com/ml-python-portfolio</td>\n",
       "    </tr>\n",
       "    <tr>\n",
       "      <th>19</th>\n",
       "      <td>DevOps, Jenkins, Docker</td>\n",
       "      <td>https://example.com/devops-portfolio</td>\n",
       "    </tr>\n",
       "  </tbody>\n",
       "</table>\n",
       "</div>"
      ],
      "text/plain": [
       "                               Techstack  \\\n",
       "0                React, Node.js, MongoDB   \n",
       "1               Angular,.NET, SQL Server   \n",
       "2      Vue.js, Ruby on Rails, PostgreSQL   \n",
       "3                  Python, Django, MySQL   \n",
       "4              Java, Spring Boot, Oracle   \n",
       "5             Flutter, Firebase, GraphQL   \n",
       "6                  WordPress, PHP, MySQL   \n",
       "7                    Magento, PHP, MySQL   \n",
       "8         React Native, Node.js, MongoDB   \n",
       "9                  iOS, Swift, Core Data   \n",
       "10       Android, Java, Room Persistence   \n",
       "11             Kotlin, Android, Firebase   \n",
       "12       Android TV, Kotlin, Android NDK   \n",
       "13                     iOS, Swift, ARKit   \n",
       "14        Cross-platform, Xamarin, Azure   \n",
       "15          Backend, Kotlin, Spring Boot   \n",
       "16         Frontend, TypeScript, Angular   \n",
       "17    Full-stack, JavaScript, Express.js   \n",
       "18  Machine Learning, Python, TensorFlow   \n",
       "19               DevOps, Jenkins, Docker   \n",
       "\n",
       "                                                Links  \n",
       "0                 https://example.com/react-portfolio  \n",
       "1               https://example.com/angular-portfolio  \n",
       "2                   https://example.com/vue-portfolio  \n",
       "3                https://example.com/python-portfolio  \n",
       "4                  https://example.com/java-portfolio  \n",
       "5               https://example.com/flutter-portfolio  \n",
       "6             https://example.com/wordpress-portfolio  \n",
       "7               https://example.com/magento-portfolio  \n",
       "8          https://example.com/react-native-portfolio  \n",
       "9                   https://example.com/ios-portfolio  \n",
       "10              https://example.com/android-portfolio  \n",
       "11       https://example.com/kotlin-android-portfolio  \n",
       "12           https://example.com/android-tv-portfolio  \n",
       "13               https://example.com/ios-ar-portfolio  \n",
       "14              https://example.com/xamarin-portfolio  \n",
       "15       https://example.com/kotlin-backend-portfolio  \n",
       "16  https://example.com/typescript-frontend-portfolio  \n",
       "17        https://example.com/full-stack-js-portfolio  \n",
       "18            https://example.com/ml-python-portfolio  \n",
       "19               https://example.com/devops-portfolio  "
      ]
     },
     "execution_count": 46,
     "metadata": {},
     "output_type": "execute_result"
    }
   ],
   "source": [
    "import pandas as pd\n",
    "df = pd.read_csv(\"my_portfolio.csv\")\n",
    "df"
   ]
  },
  {
   "cell_type": "code",
   "execution_count": 47,
   "id": "3e0b2216-f3bd-49bc-82f4-22dc952facf0",
   "metadata": {},
   "outputs": [],
   "source": [
    "import chromadb\n",
    "import uuid\n",
    "client = chromadb.PersistentClient('vectorstore')\n",
    "collection = client.get_or_create_collection(name=\"portfolio\")\n",
    "\n",
    "if not collection.count():\n",
    "    for _, row in df.iterrows():\n",
    "        collection.add(documents=row[\"Techstack\"],\n",
    "                       metadatas={\"links\": row[\"Links\"]},\n",
    "                       ids=[str(uuid.uuid4())])"
   ]
  },
  {
   "cell_type": "code",
   "execution_count": 49,
   "id": "aae28c41-4cb8-45d8-8250-243388226e1c",
   "metadata": {},
   "outputs": [
    {
     "data": {
      "text/plain": [
       "[[{'links': 'https://example.com/ml-python-portfolio'},\n",
       "  {'links': 'https://example.com/python-portfolio'}],\n",
       " [{'links': 'https://example.com/react-portfolio'},\n",
       "  {'links': 'https://example.com/react-native-portfolio'}]]"
      ]
     },
     "execution_count": 49,
     "metadata": {},
     "output_type": "execute_result"
    }
   ],
   "source": [
    "links = collection.query(\n",
    "    query_texts=[\"Experience in python\", \"Expertise in React\"], \n",
    "    n_results=2\n",
    ").get('metadatas') \n",
    "links"
   ]
  },
  {
   "cell_type": "code",
   "execution_count": 50,
   "id": "5331f7c9-d2d1-4a0e-95f8-f45f79f8f1f3",
   "metadata": {},
   "outputs": [
    {
     "data": {
      "text/plain": [
       "[[{'links': 'https://example.com/kotlin-backend-portfolio'},\n",
       "  {'links': 'https://example.com/ios-ar-portfolio'}]]"
      ]
     },
     "execution_count": 50,
     "metadata": {},
     "output_type": "execute_result"
    }
   ],
   "source": [
    "links = collection.query(query_texts=job['skills'], n_results=2).get('metadatas', [])\n",
    "links"
   ]
  },
  {
   "cell_type": "code",
   "execution_count": 51,
   "id": "0bdb6b60-555a-480d-8fc7-297b7c892268",
   "metadata": {},
   "outputs": [
    {
     "data": {
      "text/plain": [
       "{'role': 'ACG, FW Materials Developer II',\n",
       " 'experience': 'Not specified',\n",
       " 'skills': 'Not specified',\n",
       " 'description': 'Product Development GroupView Job'}"
      ]
     },
     "execution_count": 51,
     "metadata": {},
     "output_type": "execute_result"
    }
   ],
   "source": [
    "job"
   ]
  },
  {
   "cell_type": "code",
   "execution_count": 53,
   "id": "14ec3cb8-d59d-4458-baaa-9a54163260ce",
   "metadata": {},
   "outputs": [
    {
     "name": "stdout",
     "output_type": "stream",
     "text": [
      "Subject: Unlock Efficient Product Development with Abc\n",
      "\n",
      "Dear [Client Name],\n",
      "\n",
      "I came across the job description for an ACG, FW Materials Developer II at [Company Name] and was impressed by the Product Development Group's focus on innovation. As a Business Development Executive at Abc, an AI & Software Consulting company, I'd like to introduce you to our expertise in facilitating seamless integration of business processes through automated tools.\n",
      "\n",
      "At Abc, we've empowered numerous enterprises with tailored solutions, fostering scalability, process optimization, cost reduction, and heightened overall efficiency. Our team of experts has a proven track record of delivering high-quality projects that meet and exceed client expectations.\n",
      "\n",
      "I'd like to highlight a few examples from our portfolio that demonstrate our capabilities:\n",
      "\n",
      "- **Kotlin Backend Development**: We've successfully developed scalable and efficient backend systems for clients using Kotlin. You can view our portfolio here: https://example.com/kotlin-backend-portfolio. This expertise would be highly relevant to the Product Development Group's needs.\n",
      "- **iOS AR Development**: Our team has also delivered innovative AR experiences for clients using iOS. You can view our portfolio here: https://example.com/ios-ar-portfolio. This expertise could be leveraged to enhance the user experience of the ACG, FW Materials Developer II role.\n",
      "\n",
      "I'd love to discuss how Abc can support the Product Development Group's goals and objectives. If you're interested in learning more about our services and how we can help, please don't hesitate to reach out.\n",
      "\n",
      "Best regards,\n",
      "\n",
      "Megha SK\n",
      "Business Development Executive, Abc\n"
     ]
    }
   ],
   "source": [
    "prompt_email = PromptTemplate.from_template(\n",
    "        \"\"\"\n",
    "        ### JOB DESCRIPTION:\n",
    "        {job_description}\n",
    "        \n",
    "        ### INSTRUCTION:\n",
    "        You are Megha SK, a business development executive at Abc. Abc is an AI & Software Consulting company dedicated to facilitating\n",
    "        the seamless integration of business processes through automated tools. \n",
    "        Over our experience, we have empowered numerous enterprises with tailored solutions, fostering scalability, \n",
    "        process optimization, cost reduction, and heightened overall efficiency. \n",
    "        Your job is to write a cold email to the client regarding the job mentioned above describing the capability of Abc \n",
    "        in fulfilling their needs.\n",
    "        Also add the most relevant ones from the following links to showcase Abc's portfolio: {link_list}\n",
    "        Remember you are Megha SK, BDE at Abc. \n",
    "        Do not provide a preamble.\n",
    "        ### EMAIL (NO PREAMBLE):\n",
    "        \n",
    "        \"\"\"\n",
    "        )\n",
    "\n",
    "chain_email = prompt_email | llm\n",
    "res = chain_email.invoke({\"job_description\": str(job), \"link_list\": links})\n",
    "print(res.content)"
   ]
  },
  {
   "cell_type": "code",
   "execution_count": null,
   "id": "eda0d994-1874-4add-992b-f0e9f525638f",
   "metadata": {},
   "outputs": [],
   "source": []
  }
 ],
 "metadata": {
  "kernelspec": {
   "display_name": "Python 3 (ipykernel)",
   "language": "python",
   "name": "python3"
  },
  "language_info": {
   "codemirror_mode": {
    "name": "ipython",
    "version": 3
   },
   "file_extension": ".py",
   "mimetype": "text/x-python",
   "name": "python",
   "nbconvert_exporter": "python",
   "pygments_lexer": "ipython3",
   "version": "3.11.0"
  }
 },
 "nbformat": 4,
 "nbformat_minor": 5
}
